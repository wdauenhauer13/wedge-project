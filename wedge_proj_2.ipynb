{
 "cells": [
  {
   "cell_type": "markdown",
   "id": "e3feaa45",
   "metadata": {},
   "source": [
    "Wedge Part 2"
   ]
  },
  {
   "cell_type": "code",
   "execution_count": 1,
   "id": "255a3fa7",
   "metadata": {},
   "outputs": [],
   "source": [
    "import os\n",
    "import re\n",
    "import datetime \n",
    "\n",
    "import pandas as pd\n",
    "import numpy as np\n",
    "import matplotlib.pyplot as plt\n",
    "import pandas_gbq\n",
    "import janitor\n",
    "\n",
    "# Do our imports for the code\n",
    "from google.cloud import bigquery\n",
    "from google.oauth2 import service_account\n",
    "\n",
    "from os.path import exists\n"
   ]
  },
  {
   "cell_type": "markdown",
   "id": "faef168b",
   "metadata": {},
   "source": [
    "Establishing a connection with GBQ"
   ]
  },
  {
   "cell_type": "code",
   "execution_count": 5,
   "id": "5a5cc374",
   "metadata": {},
   "outputs": [
    {
     "name": "stdout",
     "output_type": "stream",
     "text": [
      "True\n",
      "<google.oauth2.service_account.Credentials object at 0x7fc64d94aad0>\n",
      "msba-wd:class_example\n",
      "msba-wd:dram_shop\n",
      "msba-wd:wedge_proj\n"
     ]
    }
   ],
   "source": [
    "# These first two values will be different on your machine. \n",
    "service_path = \"/Users/willd/Desktop/ADA/\"\n",
    "service_file = 'msba-wd-7a44c8ddeff2.json' # change this to your authentication information  \n",
    "gbq_proj_id = 'msba-wd' # 'msba-wd' # change this to your project. \n",
    "\n",
    "# And this should stay the same. \n",
    "private_key =service_path + service_file\n",
    "\n",
    "print(exists(private_key))\n",
    "\n",
    "# Now we pass in our credentials so that Python has permission to access our project.\n",
    "credentials = service_account.Credentials.from_service_account_file(service_path + service_file)\n",
    "\n",
    "print(credentials)\n",
    "\n",
    "# And finally we establish our connection\n",
    "client = bigquery.Client(credentials = credentials, project=gbq_proj_id)\n",
    "\n",
    "for item in client.list_datasets() : \n",
    "    print(item.full_dataset_id)"
   ]
  },
  {
   "attachments": {},
   "cell_type": "markdown",
   "id": "3f587cc3",
   "metadata": {},
   "source": [
    "Writing a query to GBQ and printing into a pandas dataframe.\n",
    "This task asks you to generate a file of owners where the file contains every record for each owner. There will be more than one owner in the file, and I do not want you to include card_no==3, which is the code for non-owners."
   ]
  },
  {
   "cell_type": "code",
   "execution_count": 4,
   "id": "18a2399e",
   "metadata": {},
   "outputs": [
    {
     "name": "stderr",
     "output_type": "stream",
     "text": [
      "Downloading: 100%|█████████| 26997/26997 [00:00<00:00, 33580.20rows/s]\n"
     ]
    },
    {
     "data": {
      "text/html": [
       "<div>\n",
       "<style scoped>\n",
       "    .dataframe tbody tr th:only-of-type {\n",
       "        vertical-align: middle;\n",
       "    }\n",
       "\n",
       "    .dataframe tbody tr th {\n",
       "        vertical-align: top;\n",
       "    }\n",
       "\n",
       "    .dataframe thead th {\n",
       "        text-align: right;\n",
       "    }\n",
       "</style>\n",
       "<table border=\"1\" class=\"dataframe\">\n",
       "  <thead>\n",
       "    <tr style=\"text-align: right;\">\n",
       "      <th></th>\n",
       "      <th>card_no</th>\n",
       "    </tr>\n",
       "  </thead>\n",
       "  <tbody>\n",
       "    <tr>\n",
       "      <th>0</th>\n",
       "      <td>40480</td>\n",
       "    </tr>\n",
       "    <tr>\n",
       "      <th>1</th>\n",
       "      <td>40766</td>\n",
       "    </tr>\n",
       "    <tr>\n",
       "      <th>2</th>\n",
       "      <td>47856</td>\n",
       "    </tr>\n",
       "    <tr>\n",
       "      <th>3</th>\n",
       "      <td>43115</td>\n",
       "    </tr>\n",
       "    <tr>\n",
       "      <th>4</th>\n",
       "      <td>43030</td>\n",
       "    </tr>\n",
       "  </tbody>\n",
       "</table>\n",
       "</div>"
      ],
      "text/plain": [
       "   card_no\n",
       "0    40480\n",
       "1    40766\n",
       "2    47856\n",
       "3    43115\n",
       "4    43030"
      ]
     },
     "execution_count": 4,
     "metadata": {},
     "output_type": "execute_result"
    }
   ],
   "source": [
    "query = \"\"\"\n",
    "SELECT distinct(card_no)\n",
    "FROM `msba-wd.wedge_proj.transArchive*`\n",
    "Where card_no != 3\n",
    "GROUP BY card_no\n",
    "\"\"\"\n",
    "\n",
    "owner_data = pandas_gbq.read_gbq(query,project_id = gbq_proj_id)\n",
    "owner_data.head()\n"
   ]
  }
 ],
 "metadata": {
  "kernelspec": {
   "display_name": "Python 3 (ipykernel)",
   "language": "python",
   "name": "python3"
  },
  "language_info": {
   "codemirror_mode": {
    "name": "ipython",
    "version": 3
   },
   "file_extension": ".py",
   "mimetype": "text/x-python",
   "name": "python",
   "nbconvert_exporter": "python",
   "pygments_lexer": "ipython3",
   "version": "3.7.13"
  }
 },
 "nbformat": 4,
 "nbformat_minor": 5
}
