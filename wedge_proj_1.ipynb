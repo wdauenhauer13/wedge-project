{
 "cells": [
  {
   "cell_type": "markdown",
   "id": "98e27716",
   "metadata": {},
   "source": [
    "Wedge Part 1"
   ]
  },
  {
   "cell_type": "code",
   "execution_count": 266,
   "id": "255a3fa7",
   "metadata": {},
   "outputs": [],
   "source": [
    "import os\n",
    "import re\n",
    "import datetime \n",
    "\n",
    "import pandas as pd\n",
    "import numpy as np\n",
    "import matplotlib.pyplot as plt\n",
    "import pandas_gbq\n",
    "import janitor\n",
    "\n",
    "# Do our imports for the code\n",
    "from google.cloud import bigquery\n",
    "from google.oauth2 import service_account\n",
    "\n",
    "from os.path import exists\n"
   ]
  },
  {
   "cell_type": "markdown",
   "id": "8a05a01a",
   "metadata": {},
   "source": [
    "Establishing a connection with GBQ"
   ]
  },
  {
   "cell_type": "code",
   "execution_count": 276,
   "id": "5a5cc374",
   "metadata": {},
   "outputs": [
    {
     "name": "stdout",
     "output_type": "stream",
     "text": [
      "True\n",
      "<google.oauth2.service_account.Credentials object at 0x7fb464080c90>\n"
     ]
    }
   ],
   "source": [
    "# These first two values will be different on your machine. \n",
    "service_path = \"/Users/willd/Desktop/ADA/\"\n",
    "service_file = 'msba-wd-7a44c8ddeff2.json' # change this to your authentication information  \n",
    "gbq_proj_id = 'msba-wd' # 'msba-wd' # change this to your project. \n",
    "\n",
    "# And this should stay the same. \n",
    "private_key =service_path + service_file\n",
    "\n",
    "print(exists(private_key))\n",
    "\n",
    "# Now we pass in our credentials so that Python has permission to access our project.\n",
    "credentials = service_account.Credentials.from_service_account_file(service_path + service_file)\n",
    "\n",
    "print(credentials)\n",
    "\n",
    "# And finally we establish our connection\n",
    "client = bigquery.Client(credentials = credentials, project=gbq_proj_id)\n",
    "\n",
    "for item in client.list_datasets() : \n",
    "    print(item.full_dataset_id)"
   ]
  },
  {
   "cell_type": "markdown",
   "id": "87730f89",
   "metadata": {},
   "source": [
    "Setting the table name to my specific file name, and dataset name to my dataset in GBQ"
   ]
  },
  {
   "cell_type": "code",
   "execution_count": 278,
   "id": "253b7cde",
   "metadata": {},
   "outputs": [
    {
     "name": "stdout",
     "output_type": "stream",
     "text": [
      "<google.cloud.bigquery.table.TableListItem object at 0x7fb4640972d0>\n",
      "<google.cloud.bigquery.table.TableListItem object at 0x7fb464097ed0>\n",
      "<google.cloud.bigquery.table.TableListItem object at 0x7fb4640972d0>\n",
      "<google.cloud.bigquery.table.TableListItem object at 0x7fb464097fd0>\n",
      "<google.cloud.bigquery.table.TableListItem object at 0x7fb4640972d0>\n",
      "<google.cloud.bigquery.table.TableListItem object at 0x7fb464097ed0>\n",
      "<google.cloud.bigquery.table.TableListItem object at 0x7fb4640972d0>\n",
      "<google.cloud.bigquery.table.TableListItem object at 0x7fb464097ed0>\n",
      "<google.cloud.bigquery.table.TableListItem object at 0x7fb4640972d0>\n",
      "<google.cloud.bigquery.table.TableListItem object at 0x7fb464097ed0>\n",
      "<google.cloud.bigquery.table.TableListItem object at 0x7fb4640972d0>\n",
      "<google.cloud.bigquery.table.TableListItem object at 0x7fb464097ed0>\n",
      "<google.cloud.bigquery.table.TableListItem object at 0x7fb4640972d0>\n",
      "<google.cloud.bigquery.table.TableListItem object at 0x7fb464097ed0>\n",
      "<google.cloud.bigquery.table.TableListItem object at 0x7fb4640972d0>\n",
      "<google.cloud.bigquery.table.TableListItem object at 0x7fb464097ed0>\n",
      "<google.cloud.bigquery.table.TableListItem object at 0x7fb4640972d0>\n",
      "<google.cloud.bigquery.table.TableListItem object at 0x7fb464097ed0>\n",
      "<google.cloud.bigquery.table.TableListItem object at 0x7fb4640972d0>\n",
      "<google.cloud.bigquery.table.TableListItem object at 0x7fb464097ed0>\n",
      "<google.cloud.bigquery.table.TableListItem object at 0x7fb4640972d0>\n",
      "<google.cloud.bigquery.table.TableListItem object at 0x7fb464097ed0>\n",
      "<google.cloud.bigquery.table.TableListItem object at 0x7fb4640972d0>\n",
      "<google.cloud.bigquery.table.TableListItem object at 0x7fb464097ed0>\n",
      "<google.cloud.bigquery.table.TableListItem object at 0x7fb4640972d0>\n",
      "<google.cloud.bigquery.table.TableListItem object at 0x7fb464097ed0>\n",
      "<google.cloud.bigquery.table.TableListItem object at 0x7fb4640972d0>\n",
      "<google.cloud.bigquery.table.TableListItem object at 0x7fb464097ed0>\n",
      "<google.cloud.bigquery.table.TableListItem object at 0x7fb4640972d0>\n",
      "<google.cloud.bigquery.table.TableListItem object at 0x7fb464097ed0>\n",
      "<google.cloud.bigquery.table.TableListItem object at 0x7fb4640972d0>\n",
      "<google.cloud.bigquery.table.TableListItem object at 0x7fb464097ed0>\n",
      "<google.cloud.bigquery.table.TableListItem object at 0x7fb4640972d0>\n",
      "<google.cloud.bigquery.table.TableListItem object at 0x7fb464097ed0>\n",
      "<google.cloud.bigquery.table.TableListItem object at 0x7fb4640972d0>\n",
      "<google.cloud.bigquery.table.TableListItem object at 0x7fb464097ed0>\n",
      "<google.cloud.bigquery.table.TableListItem object at 0x7fb4640972d0>\n",
      "<google.cloud.bigquery.table.TableListItem object at 0x7fb464097ed0>\n",
      "<google.cloud.bigquery.table.TableListItem object at 0x7fb4640972d0>\n",
      "<google.cloud.bigquery.table.TableListItem object at 0x7fb464097ed0>\n",
      "<google.cloud.bigquery.table.TableListItem object at 0x7fb4640972d0>\n",
      "<google.cloud.bigquery.table.TableListItem object at 0x7fb464097ed0>\n",
      "<google.cloud.bigquery.table.TableListItem object at 0x7fb4640972d0>\n",
      "<google.cloud.bigquery.table.TableListItem object at 0x7fb464097ed0>\n",
      "<google.cloud.bigquery.table.TableListItem object at 0x7fb4640972d0>\n",
      "<google.cloud.bigquery.table.TableListItem object at 0x7fb464097ed0>\n",
      "<google.cloud.bigquery.table.TableListItem object at 0x7fb4640972d0>\n",
      "<google.cloud.bigquery.table.TableListItem object at 0x7fb464097ed0>\n",
      "<google.cloud.bigquery.table.TableListItem object at 0x7fb4640972d0>\n",
      "<google.cloud.bigquery.table.TableListItem object at 0x7fb464097ed0>\n",
      "<google.cloud.bigquery.table.TableListItem object at 0x7fb4653ae390>\n"
     ]
    }
   ],
   "source": [
    "table_name = 'transArchive_201701_clean'\n",
    "\n",
    "dataset_name = 'wedge_proj'\n",
    "\n",
    "table_list = client.list_tables(dataset_name)\n",
    "\n",
    "for table in table_list:\n",
    "    print(table)\n",
    "    \n"
   ]
  },
  {
   "cell_type": "markdown",
   "id": "e6f670db",
   "metadata": {},
   "source": [
    "Now we check if the table is already there, if it is then we are deleting it."
   ]
  },
  {
   "cell_type": "code",
   "execution_count": 279,
   "id": "44b04fb6",
   "metadata": {
    "scrolled": true
   },
   "outputs": [
    {
     "name": "stdout",
     "output_type": "stream",
     "text": [
      "msba-wd.wedge_proj.transArchive_201701_clean\n",
      "Deleted msba-wd.wedge_proj.transArchive_201701_clean.\n"
     ]
    }
   ],
   "source": [
    "table_id = \".\".join([gbq_proj_id,dataset_name,table_name])\n",
    "\n",
    "print(table_id)\n",
    "\n",
    "client.delete_table(table_id, not_found_ok=True)\n",
    "\n",
    "print(f\"Deleted {table_id}.\")"
   ]
  },
  {
   "cell_type": "markdown",
   "id": "c1f90558",
   "metadata": {},
   "source": [
    "Writing in our csv file"
   ]
  },
  {
   "cell_type": "code",
   "execution_count": 250,
   "id": "2dd76810",
   "metadata": {},
   "outputs": [],
   "source": [
    "delta = pd.read_csv('/Users/willd/Desktop/ADA/clean-files/transArchive_201701_clean.csv', low_memory=False)\n",
    "\n",
    "delta = delta.clean_names()\n",
    "\n",
    "\n",
    "\n",
    "\n"
   ]
  },
  {
   "cell_type": "markdown",
   "id": "eeec3e95",
   "metadata": {},
   "source": [
    "Uploading the csv to GBQ, rinse, and repeat!!"
   ]
  },
  {
   "cell_type": "code",
   "execution_count": 252,
   "id": "c5ad6a8c",
   "metadata": {},
   "outputs": [
    {
     "name": "stderr",
     "output_type": "stream",
     "text": [
      "100%|█████████████████████████████████| 1/1 [00:00<00:00, 4332.96it/s]\n"
     ]
    }
   ],
   "source": [
    "pandas_gbq.to_gbq(delta, table_id, project_id = gbq_proj_id, if_exists='replace')"
   ]
  }
 ],
 "metadata": {
  "kernelspec": {
   "display_name": "Python 3 (ipykernel)",
   "language": "python",
   "name": "python3"
  },
  "language_info": {
   "codemirror_mode": {
    "name": "ipython",
    "version": 3
   },
   "file_extension": ".py",
   "mimetype": "text/x-python",
   "name": "python",
   "nbconvert_exporter": "python",
   "pygments_lexer": "ipython3",
   "version": "3.7.13"
  }
 },
 "nbformat": 4,
 "nbformat_minor": 5
}
